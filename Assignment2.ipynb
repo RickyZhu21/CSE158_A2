{
 "cells": [
  {
   "cell_type": "code",
   "execution_count": 145,
   "id": "fc1eeeb6",
   "metadata": {},
   "outputs": [],
   "source": [
    "import gzip\n",
    "import collections\n",
    "from sklearn import linear_model\n",
    "from sklearn import metrics\n",
    "import random\n",
    "import numpy as np\n",
    "import string\n",
    "import math\n",
    "from sklearn.feature_extraction.text import TfidfVectorizer\n",
    "from sklearn.svm import LinearSVC\n",
    "from sklearn.pipeline import make_pipeline\n",
    "from sklearn.model_selection import train_test_split\n",
    "from sklearn.metrics import accuracy_score, classification_report\n",
    "import matplotlib.pyplot as plt\n",
    "from collections import defaultdict\n",
    "import pandas as pd \n",
    "import re\n",
    "from sklearn.model_selection import train_test_split"
   ]
  },
  {
   "cell_type": "code",
   "execution_count": 2,
   "id": "2ae57344",
   "metadata": {},
   "outputs": [],
   "source": [
    "def readGz(path):\n",
    "    for l in gzip.open(path, 'rt', encoding='utf-8'):\n",
    "        if 'null' not in l:\n",
    "            yield eval(l)"
   ]
  },
  {
   "cell_type": "code",
   "execution_count": 3,
   "id": "0dbdf488",
   "metadata": {},
   "outputs": [],
   "source": [
    "all_cloth = list(readGz(\"renttherunway_final_data.json.gz\"))"
   ]
  },
  {
   "cell_type": "code",
   "execution_count": 4,
   "id": "f9689d02",
   "metadata": {},
   "outputs": [
    {
     "data": {
      "text/plain": [
       "{'fit': 'fit',\n",
       " 'user_id': '420272',\n",
       " 'bust size': '34d',\n",
       " 'item_id': '2260466',\n",
       " 'weight': '137lbs',\n",
       " 'rating': '10',\n",
       " 'rented for': 'vacation',\n",
       " 'review_text': \"An adorable romper! Belt and zipper were a little hard to navigate in a full day of wear/bathroom use, but that's to be expected. Wish it had pockets, but other than that-- absolutely perfect! I got a million compliments.\",\n",
       " 'body type': 'hourglass',\n",
       " 'review_summary': 'So many compliments!',\n",
       " 'category': 'romper',\n",
       " 'height': '5\\' 8\"',\n",
       " 'size': 14,\n",
       " 'age': '28',\n",
       " 'review_date': 'April 20, 2016'}"
      ]
     },
     "execution_count": 4,
     "metadata": {},
     "output_type": "execute_result"
    }
   ],
   "source": [
    "all_cloth[0]"
   ]
  },
  {
   "cell_type": "code",
   "execution_count": 5,
   "id": "4f2e37aa",
   "metadata": {},
   "outputs": [
    {
     "data": {
      "text/plain": [
       "192462"
      ]
     },
     "execution_count": 5,
     "metadata": {},
     "output_type": "execute_result"
    }
   ],
   "source": [
    "len(all_cloth)"
   ]
  },
  {
   "cell_type": "code",
   "execution_count": 6,
   "id": "6a183509",
   "metadata": {},
   "outputs": [],
   "source": [
    "for item in all_cloth:\n",
    "    keys_with_spaces = list(item.keys())  # Extracting keys to modify while iterating\n",
    "    for key in keys_with_spaces:\n",
    "        if ' ' in key:\n",
    "            new_key = key.replace(' ', '_')  # Replacing spaces with underscores\n",
    "            item[new_key] = item.pop(key)  # Replace the key in the dictionary"
   ]
  },
  {
   "cell_type": "code",
   "execution_count": 7,
   "id": "3fc47040",
   "metadata": {},
   "outputs": [
    {
     "data": {
      "text/plain": [
       "{'fit': 'fit',\n",
       " 'user_id': '420272',\n",
       " 'item_id': '2260466',\n",
       " 'weight': '137lbs',\n",
       " 'rating': '10',\n",
       " 'review_text': \"An adorable romper! Belt and zipper were a little hard to navigate in a full day of wear/bathroom use, but that's to be expected. Wish it had pockets, but other than that-- absolutely perfect! I got a million compliments.\",\n",
       " 'review_summary': 'So many compliments!',\n",
       " 'category': 'romper',\n",
       " 'height': '5\\' 8\"',\n",
       " 'size': 14,\n",
       " 'age': '28',\n",
       " 'review_date': 'April 20, 2016',\n",
       " 'bust_size': '34d',\n",
       " 'rented_for': 'vacation',\n",
       " 'body_type': 'hourglass'}"
      ]
     },
     "execution_count": 7,
     "metadata": {},
     "output_type": "execute_result"
    }
   ],
   "source": [
    "all_cloth[0]"
   ]
  },
  {
   "cell_type": "code",
   "execution_count": 8,
   "id": "e202010c",
   "metadata": {},
   "outputs": [],
   "source": [
    "#Data cleaning:\n",
    "#1: We noticed that some clothing data between user and item is incomplete\n",
    "cloths_key_len = []\n",
    "for item in all_cloth:\n",
    "    cloths_key_len.append(len(item.keys()))\n"
   ]
  },
  {
   "cell_type": "code",
   "execution_count": 9,
   "id": "63ed446e",
   "metadata": {},
   "outputs": [
    {
     "name": "stdout",
     "output_type": "stream",
     "text": [
      "[12, 13, 14, 15]\n"
     ]
    }
   ],
   "source": [
    "#Incomplete clothing data for the item if the item has less than the standard 15 variables to describe it. \n",
    "unique_values = list(set(cloths_key_len))\n",
    "print(unique_values)"
   ]
  },
  {
   "cell_type": "code",
   "execution_count": 10,
   "id": "e10ebc7c",
   "metadata": {},
   "outputs": [
    {
     "data": {
      "text/plain": [
       "146381"
      ]
     },
     "execution_count": 10,
     "metadata": {},
     "output_type": "execute_result"
    }
   ],
   "source": [
    "#Cleaned Dataset \n",
    "cloth_cleaned = []\n",
    "for item in all_cloth:\n",
    "    if len(item.keys()) == 15:\n",
    "        cloth_cleaned.append(item)\n",
    "len(cloth_cleaned)"
   ]
  },
  {
   "cell_type": "code",
   "execution_count": 11,
   "id": "57ce620e",
   "metadata": {},
   "outputs": [
    {
     "data": {
      "text/plain": [
       "{'fit': 'fit',\n",
       " 'user_id': '420272',\n",
       " 'item_id': '2260466',\n",
       " 'weight': '137lbs',\n",
       " 'rating': '10',\n",
       " 'review_text': \"An adorable romper! Belt and zipper were a little hard to navigate in a full day of wear/bathroom use, but that's to be expected. Wish it had pockets, but other than that-- absolutely perfect! I got a million compliments.\",\n",
       " 'review_summary': 'So many compliments!',\n",
       " 'category': 'romper',\n",
       " 'height': '5\\' 8\"',\n",
       " 'size': 14,\n",
       " 'age': '28',\n",
       " 'review_date': 'April 20, 2016',\n",
       " 'bust_size': '34d',\n",
       " 'rented_for': 'vacation',\n",
       " 'body_type': 'hourglass'}"
      ]
     },
     "execution_count": 11,
     "metadata": {},
     "output_type": "execute_result"
    }
   ],
   "source": [
    "cloth_cleaned[0]"
   ]
  },
  {
   "cell_type": "code",
   "execution_count": 12,
   "id": "877f1998",
   "metadata": {},
   "outputs": [],
   "source": [
    "#User item pair for recommendation:\n",
    "user_dict = defaultdict(list)\n",
    "for item in cloth_cleaned:\n",
    "    user_dict[item['user_id']].append(item['item_id'])"
   ]
  },
  {
   "cell_type": "code",
   "execution_count": 13,
   "id": "9031b3dc",
   "metadata": {},
   "outputs": [],
   "source": [
    "#Different occasions of clothes\n",
    "cloth_occasions = []\n",
    "for item in cloth_cleaned:\n",
    "    cloth_occasions.append(item['rented_for'])"
   ]
  },
  {
   "cell_type": "code",
   "execution_count": 14,
   "id": "d1a84207",
   "metadata": {},
   "outputs": [
    {
     "name": "stdout",
     "output_type": "stream",
     "text": [
      "['formal affair', 'work', 'everyday', 'wedding', 'other', 'party: cocktail', 'date', 'party', 'vacation']\n"
     ]
    }
   ],
   "source": [
    "unique_occasions = list(set(cloth_occasions))\n",
    "print(unique_occasions)"
   ]
  },
  {
   "cell_type": "code",
   "execution_count": 15,
   "id": "7d520a7a",
   "metadata": {},
   "outputs": [
    {
     "data": {
      "text/plain": [
       "9"
      ]
     },
     "execution_count": 15,
     "metadata": {},
     "output_type": "execute_result"
    }
   ],
   "source": [
    "len(unique_occasions)"
   ]
  },
  {
   "cell_type": "markdown",
   "metadata": {},
   "source": [
    "# Explore Dataset"
   ]
  },
  {
   "cell_type": "code",
   "execution_count": 16,
   "metadata": {},
   "outputs": [
    {
     "name": "stdout",
     "output_type": "stream",
     "text": [
      "{'vacation': 3238, 'date': 5929, 'work': 12124, 'everyday': 13263, 'party': 27198, 'formal affair': 30496, 'wedding': 42622, 'other': 11510}\n",
      "{2: 783, 4: 2205, 6: 8341, 8: 40761, 10: 94291}\n",
      "defaultdict(<class 'int'>, {'small': 19622, 'fit': 107733, 'large': 19026})\n"
     ]
    }
   ],
   "source": [
    "\n",
    "# count occasion\n",
    "occasions_num = defaultdict(int)\n",
    "for x in cloth_cleaned:\n",
    "    occasions_num[x['rented_for']] += 1\n",
    "occasions_num = dict(sorted(occasions_num.items(), key=lambda item: item[1]))\n",
    "temp = occasions_num.pop('other')\n",
    "occasions_num['other'] = temp\n",
    "occasions_num.pop('party: cocktail')\n",
    "print(occasions_num)\n",
    "\n",
    "# count ratings\n",
    "rating_num = defaultdict(int)\n",
    "for x in cloth_cleaned:\n",
    "    rating_num[int(x['rating'])] += 1\n",
    "rating_num = dict(sorted(rating_num.items(), key=lambda item: item[0]))\n",
    "print(rating_num)\n",
    "\n",
    "# count fit\n",
    "fit_num = defaultdict(int)\n",
    "for x in cloth_cleaned:\n",
    "    fit_num[x['fit']] += 1\n",
    "fit_num['fit'] = fit_num.pop('fit')\n",
    "fit_num['large'] = fit_num.pop('large')\n",
    "print(fit_num)"
   ]
  },
  {
   "cell_type": "code",
   "execution_count": 17,
   "metadata": {},
   "outputs": [
    {
     "data": {
      "text/plain": [
       "Text(0.5, 1.0, 'Figure 1: Fit Distribution')"
      ]
     },
     "execution_count": 17,
     "metadata": {},
     "output_type": "execute_result"
    },
    {
     "data": {
      "image/png": "[encoded data removed]",
      "text/plain": [
       "<Figure size 600x500 with 1 Axes>"
      ]
     },
     "metadata": {},
     "output_type": "display_data"
    }
   ],
   "source": [
    "labels = list(fit_num.keys())\n",
    "values = list(fit_num.values())\n",
    "\n",
    "plt.figure(figsize=(6, 5))\n",
    "plt.bar(labels, values, color='skyblue')\n",
    "plt.ylabel('Count')\n",
    "plt.xlabel('Fit')\n",
    "plt.title('Figure 1: Fit Distribution')"
   ]
  },
  {
   "cell_type": "code",
   "execution_count": 18,
   "metadata": {},
   "outputs": [
    {
     "data": {
      "image/png": "[encoded data removed]",
      "text/plain": [
       "<Figure size 1500x800 with 1 Axes>"
      ]
     },
     "metadata": {},
     "output_type": "display_data"
    }
   ],
   "source": [
    "rented_for_category_counts = {}\n",
    "\n",
    "for x in cloth_cleaned:\n",
    "    rented_for = x['rented_for']\n",
    "    category = x['category']\n",
    "    \n",
    "    # Creating a combined key for rented_for and category\n",
    "    combined_key = f\"{rented_for} - {category}\"\n",
    "    \n",
    "    rented_for_category_counts[combined_key] = rented_for_category_counts.get(combined_key, 0) + 1\n",
    "\n",
    "sorted_counts = dict(sorted(rented_for_category_counts.items(), key=lambda item: item[1], reverse=True))\n",
    "unique = []\n",
    "unique_occ_cat_count = {}\n",
    "for x in sorted_counts:\n",
    "    occ =  x.split('-')[0]\n",
    "    if occ not in unique:\n",
    "        unique.append(occ)\n",
    "        unique_occ_cat_count[x] = sorted_counts[x]\n",
    "unique_occ_cat_count.pop('party: cocktail - dress')\n",
    "\n",
    "plt.figure(figsize=(15, 8))\n",
    "plt.bar(unique_occ_cat_count.keys(), unique_occ_cat_count.values(), color='skyblue')\n",
    "plt.title('Figure2: Occasions and Category Analysis')\n",
    "plt.xlabel('Occasion/Category')\n",
    "plt.ylabel('Counts')\n",
    "plt.show()"
   ]
  },
  {
   "cell_type": "code",
   "execution_count": 19,
   "metadata": {},
   "outputs": [
    {
     "data": {
      "image/png": "[encoded data removed]",
      "text/plain": [
       "<Figure size 1000x600 with 1 Axes>"
      ]
     },
     "metadata": {},
     "output_type": "display_data"
    }
   ],
   "source": [
    "labels = list(occasions_num.keys())\n",
    "values = list(occasions_num.values())\n",
    "\n",
    "plt.figure(figsize=(10, 6))\n",
    "plt.bar(labels, values, color='skyblue')\n",
    "plt.ylabel('Count')\n",
    "plt.xlabel('Occasions')\n",
    "plt.title('Figure 3: Occasions Distribution')\n",
    "\n",
    "plt.show()"
   ]
  },
  {
   "cell_type": "code",
   "execution_count": null,
   "metadata": {},
   "outputs": [],
   "source": []
  },
  {
   "cell_type": "code",
   "execution_count": 20,
   "metadata": {},
   "outputs": [
    {
     "data": {
      "image/png": "[encoded data removed]",
      "text/plain": [
       "<Figure size 700x500 with 1 Axes>"
      ]
     },
     "metadata": {},
     "output_type": "display_data"
    }
   ],
   "source": [
    "labels = list(rating_num.keys())\n",
    "values = list(rating_num.values())\n",
    "\n",
    "plt.figure(figsize=(7, 5))\n",
    "plt.bar(labels, values, color='skyblue', width=1.5)\n",
    "plt.ylabel('Count')\n",
    "plt.xlabel('Ratings')\n",
    "plt.title('Figure 4: Rating Distribution')\n",
    "\n",
    "\n",
    "plt.show()"
   ]
  },
  {
   "cell_type": "markdown",
   "metadata": {},
   "source": [
    "# Modeling"
   ]
  },
  {
   "cell_type": "markdown",
   "metadata": {},
   "source": [
    "## Baseline Models"
   ]
  },
  {
   "cell_type": "code",
   "execution_count": 21,
   "metadata": {},
   "outputs": [
    {
     "data": {
      "text/plain": [
       "146381"
      ]
     },
     "execution_count": 21,
     "metadata": {},
     "output_type": "execute_result"
    }
   ],
   "source": [
    "#Baseline Model #1: Model always predict fit\n",
    "always_fit = len(cloth_cleaned) #\n",
    "always_fit"
   ]
  },
  {
   "cell_type": "code",
   "execution_count": 22,
   "metadata": {},
   "outputs": [
    {
     "data": {
      "text/plain": [
       "107733"
      ]
     },
     "execution_count": 22,
     "metadata": {},
     "output_type": "execute_result"
    }
   ],
   "source": [
    "#Baseline Model #1 accuracy:\n",
    "prediction_b1 = 0 #Counter for crrrect prediction of fit.\n",
    "for cloth in cloth_cleaned:\n",
    "    if cloth['fit'] == 'fit':\n",
    "        prediction_b1 += 1\n",
    "prediction_b1"
   ]
  },
  {
   "cell_type": "code",
   "execution_count": 23,
   "metadata": {},
   "outputs": [
    {
     "data": {
      "text/plain": [
       "0.7359766636380405"
      ]
     },
     "execution_count": 23,
     "metadata": {},
     "output_type": "execute_result"
    }
   ],
   "source": [
    "#Baseline Model #1 accuracy: Number of correct base prediction in dataset('fit') / length of dataset(assuming all fit)\n",
    "accuracy_b1 = prediction_b1 / always_fit\n",
    "accuracy_b1"
   ]
  },
  {
   "cell_type": "code",
   "execution_count": 24,
   "metadata": {},
   "outputs": [
    {
     "data": {
      "text/plain": [
       "108147"
      ]
     },
     "execution_count": 24,
     "metadata": {},
     "output_type": "execute_result"
    }
   ],
   "source": [
    "#Baseline Model #2: Using size as the factor to predict fit\n",
    "prediction_b2 = 0 #Counter for crrrect prediction of fit.\n",
    "for cloth in cloth_cleaned:\n",
    "    if cloth['size'] >= 5 and cloth['size'] <= 40:\n",
    "        prediction_b2 += 1\n",
    "prediction_b2"
   ]
  },
  {
   "cell_type": "code",
   "execution_count": 25,
   "metadata": {},
   "outputs": [
    {
     "data": {
      "text/plain": [
       "0.7388048995429735"
      ]
     },
     "execution_count": 25,
     "metadata": {},
     "output_type": "execute_result"
    }
   ],
   "source": [
    "#Baseline Model #1 accuracy:\n",
    "accuracy_b2 = prediction_b2 / len(cloth_cleaned)\n",
    "accuracy_b2"
   ]
  },
  {
   "cell_type": "markdown",
   "metadata": {},
   "source": [
    "### Enhanced Modeling"
   ]
  },
  {
   "cell_type": "code",
   "execution_count": 146,
   "metadata": {},
   "outputs": [],
   "source": [
    "def standardize_data(data):\n",
    "    \"\"\"\n",
    "    Standardizes the clothing dataset in place, focusing on bust size and height.\n",
    "\n",
    "    Parameters:\n",
    "    data (list of dict): List of dictionaries containing clothing item and user information.\n",
    "    \"\"\"\n",
    "    for entry in data:\n",
    "        # Standardizing bust size\n",
    "        if 'bust_size' in entry and isinstance(entry['bust_size'], str):\n",
    "            bust_match = re.match(r'(\\d+)([a-zA-Z]+)', entry['bust_size'])\n",
    "            if bust_match:\n",
    "                entry['bra_size'] = int(bust_match.group(1))\n",
    "                entry['cup_size'] = bust_match.group(2)\n",
    "\n",
    "        # Converting height to inches\n",
    "        if 'height' in entry and isinstance(entry['height'], str):\n",
    "            height_match = re.match(r\"(\\d+)' (\\d+)\", entry['height'])\n",
    "            if height_match:\n",
    "                feet, inches = height_match.groups()\n",
    "                entry['height_inches'] = int(feet) * 12 + int(inches)\n",
    "        # Converting weight to integer\n",
    "        if 'weight' in entry and isinstance(entry['weight'], str):\n",
    "            weight_match = re.match(r'(\\d+)', entry['weight'])\n",
    "            if weight_match:\n",
    "                entry['weight_int'] = int(weight_match.group(1))"
   ]
  },
  {
   "cell_type": "code",
   "execution_count": 147,
   "metadata": {},
   "outputs": [],
   "source": [
    "standardize_data(cloth_cleaned)"
   ]
  },
  {
   "cell_type": "code",
   "execution_count": 148,
   "metadata": {},
   "outputs": [
    {
     "data": {
      "text/plain": [
       "{'fit': 'fit',\n",
       " 'user_id': '420272',\n",
       " 'item_id': '2260466',\n",
       " 'weight': '137lbs',\n",
       " 'rating': '10',\n",
       " 'review_text': \"An adorable romper! Belt and zipper were a little hard to navigate in a full day of wear/bathroom use, but that's to be expected. Wish it had pockets, but other than that-- absolutely perfect! I got a million compliments.\",\n",
       " 'review_summary': 'So many compliments!',\n",
       " 'category': 'romper',\n",
       " 'height': '5\\' 8\"',\n",
       " 'size': 14,\n",
       " 'age': '28',\n",
       " 'review_date': 'April 20, 2016',\n",
       " 'bust_size': '34d',\n",
       " 'rented_for': 'vacation',\n",
       " 'body_type': 'hourglass',\n",
       " 'bra_size': 34,\n",
       " 'cup_size': 'd',\n",
       " 'height_inches': 68,\n",
       " 'weight_int': 137}"
      ]
     },
     "execution_count": 148,
     "metadata": {},
     "output_type": "execute_result"
    }
   ],
   "source": [
    "cloth_cleaned[0]"
   ]
  },
  {
   "cell_type": "code",
   "execution_count": 149,
   "metadata": {},
   "outputs": [],
   "source": [
    "#Feature function for logistic Regression\n",
    "def feat(cloth):\n",
    "    #fit:\n",
    "    fit = -1 #Default, for counter\n",
    "    if item['fit'] == 'small':\n",
    "        fit = 0\n",
    "    elif item['fit'] == 'fit':\n",
    "        fit = 1\n",
    "    else:\n",
    "        fit = 2\n",
    "        \n",
    "    #bra\n",
    "    bra = int(item['bra_size'])\n",
    "    #Cup\n",
    "    cup = item['cup_size']\n",
    "    cup_dict = {'a':0, 'aa':1, 'b':2, 'c':3, 'd':4, 'dd':5, 'ddd':6, \\\n",
    "               'f':7, 'g':8, 'h':9, 'i':10, 'j':11}\n",
    "    cp = cup_dict[cup]\n",
    "    \n",
    "    \n",
    "    #weight\n",
    "    weight =  item['weight_int']\n",
    "    # rating\n",
    "    rating = int(item['rating'])\n",
    "    #height in inches\n",
    "    height_inches = int(item['height_inches'])\n",
    "    # size\n",
    "    size = item['size']\n",
    "    # age\n",
    "    age = int(item['age'])\n",
    "    #rented_for\n",
    "    rented_for = item['rented_for']\n",
    "    rf_dict = {'date':0, 'everyday':1, 'formal affair':2, 'other':3, 'party':4, 'party: cocktail':5, 'vacation':6, \\\n",
    "               'wedding':7, 'work':8}\n",
    "    rf = rf_dict[rented_for]\n",
    "    \n",
    "    #body type\n",
    "    body_type = item['body_type']\n",
    "    bt_dict = {'apple':0, 'athletic':1, 'full bust':2, 'hourglass':3, 'pear':4, 'petite':5, 'straight & narrow':6}\n",
    "    bt = bt_dict[body_type]\n",
    "    \n",
    "    return [1, bra, cp, weight, rating, height_inches, size, age, rf, bt], fit"
   ]
  },
  {
   "cell_type": "code",
   "execution_count": 150,
   "metadata": {},
   "outputs": [
    {
     "data": {
      "text/plain": [
       "[1, 1, 1, 1, 1, 1, 1, 1, 0, 2]"
      ]
     },
     "execution_count": 150,
     "metadata": {},
     "output_type": "execute_result"
    }
   ],
   "source": [
    "#Create features\n",
    "X_lst = []\n",
    "y_lst = []\n",
    "for item in cloth_cleaned:\n",
    "    X, y = feat(item)\n",
    "    X_lst.append(X)\n",
    "    y_lst.append(y)\n",
    "y_lst[:10]"
   ]
  },
  {
   "cell_type": "code",
   "execution_count": 151,
   "metadata": {},
   "outputs": [],
   "source": [
    "X_train, X_temp, y_train, y_temp = train_test_split(X_lst, y_lst, test_size=0.2, random_state=42)\n",
    "X_val, X_test, y_val, y_test = train_test_split(X_temp, y_temp, test_size=0.5, random_state=42)"
   ]
  },
  {
   "cell_type": "code",
   "execution_count": 152,
   "metadata": {},
   "outputs": [
    {
     "data": {
      "text/plain": [
       "(117104, 14638, 14639)"
      ]
     },
     "execution_count": 152,
     "metadata": {},
     "output_type": "execute_result"
    }
   ],
   "source": [
    "len(X_train), len(X_val), len(X_test)"
   ]
  },
  {
   "cell_type": "code",
   "execution_count": 153,
   "metadata": {},
   "outputs": [
    {
     "data": {
      "text/plain": [
       "(117104, 14638, 14639)"
      ]
     },
     "execution_count": 153,
     "metadata": {},
     "output_type": "execute_result"
    }
   ],
   "source": [
    "len(y_train), len(y_val), len(y_test)"
   ]
  },
  {
   "cell_type": "code",
   "execution_count": 154,
   "metadata": {},
   "outputs": [
    {
     "name": "stderr",
     "output_type": "stream",
     "text": [
      "/Library/Frameworks/Python.framework/Versions/3.11/lib/python3.11/site-packages/sklearn/linear_model/_logistic.py:460: ConvergenceWarning: lbfgs failed to converge (status=1):\n",
      "STOP: TOTAL NO. of ITERATIONS REACHED LIMIT.\n",
      "\n",
      "Increase the number of iterations (max_iter) or scale the data as shown in:\n",
      "    https://scikit-learn.org/stable/modules/preprocessing.html\n",
      "Please also refer to the documentation for alternative solver options:\n",
      "    https://scikit-learn.org/stable/modules/linear_model.html#logistic-regression\n",
      "  n_iter_i = _check_optimize_result(\n"
     ]
    },
    {
     "data": {
      "text/html": [
       "<style>#sk-container-id-1 {color: black;}#sk-container-id-1 pre{padding: 0;}#sk-container-id-1 div.sk-toggleable {background-color: white;}#sk-container-id-1 label.sk-toggleable__label {cursor: pointer;display: block;width: 100%;margin-bottom: 0;padding: 0.3em;box-sizing: border-box;text-align: center;}#sk-container-id-1 label.sk-toggleable__label-arrow:before {content: \"▸\";float: left;margin-right: 0.25em;color: #696969;}#sk-container-id-1 label.sk-toggleable__label-arrow:hover:before {color: black;}#sk-container-id-1 div.sk-estimator:hover label.sk-toggleable__label-arrow:before {color: black;}#sk-container-id-1 div.sk-toggleable__content {max-height: 0;max-width: 0;overflow: hidden;text-align: left;background-color: #f0f8ff;}#sk-container-id-1 div.sk-toggleable__content pre {margin: 0.2em;color: black;border-radius: 0.25em;background-color: #f0f8ff;}#sk-container-id-1 input.sk-toggleable__control:checked~div.sk-toggleable__content {max-height: 200px;max-width: 100%;overflow: auto;}#sk-container-id-1 input.sk-toggleable__control:checked~label.sk-toggleable__label-arrow:before {content: \"▾\";}#sk-container-id-1 div.sk-estimator input.sk-toggleable__control:checked~label.sk-toggleable__label {background-color: #d4ebff;}#sk-container-id-1 div.sk-label input.sk-toggleable__control:checked~label.sk-toggleable__label {background-color: #d4ebff;}#sk-container-id-1 input.sk-hidden--visually {border: 0;clip: rect(1px 1px 1px 1px);clip: rect(1px, 1px, 1px, 1px);height: 1px;margin: -1px;overflow: hidden;padding: 0;position: absolute;width: 1px;}#sk-container-id-1 div.sk-estimator {font-family: monospace;background-color: #f0f8ff;border: 1px dotted black;border-radius: 0.25em;box-sizing: border-box;margin-bottom: 0.5em;}#sk-container-id-1 div.sk-estimator:hover {background-color: #d4ebff;}#sk-container-id-1 div.sk-parallel-item::after {content: \"\";width: 100%;border-bottom: 1px solid gray;flex-grow: 1;}#sk-container-id-1 div.sk-label:hover label.sk-toggleable__label {background-color: #d4ebff;}#sk-container-id-1 div.sk-serial::before {content: \"\";position: absolute;border-left: 1px solid gray;box-sizing: border-box;top: 0;bottom: 0;left: 50%;z-index: 0;}#sk-container-id-1 div.sk-serial {display: flex;flex-direction: column;align-items: center;background-color: white;padding-right: 0.2em;padding-left: 0.2em;position: relative;}#sk-container-id-1 div.sk-item {position: relative;z-index: 1;}#sk-container-id-1 div.sk-parallel {display: flex;align-items: stretch;justify-content: center;background-color: white;position: relative;}#sk-container-id-1 div.sk-item::before, #sk-container-id-1 div.sk-parallel-item::before {content: \"\";position: absolute;border-left: 1px solid gray;box-sizing: border-box;top: 0;bottom: 0;left: 50%;z-index: -1;}#sk-container-id-1 div.sk-parallel-item {display: flex;flex-direction: column;z-index: 1;position: relative;background-color: white;}#sk-container-id-1 div.sk-parallel-item:first-child::after {align-self: flex-end;width: 50%;}#sk-container-id-1 div.sk-parallel-item:last-child::after {align-self: flex-start;width: 50%;}#sk-container-id-1 div.sk-parallel-item:only-child::after {width: 0;}#sk-container-id-1 div.sk-dashed-wrapped {border: 1px dashed gray;margin: 0 0.4em 0.5em 0.4em;box-sizing: border-box;padding-bottom: 0.4em;background-color: white;}#sk-container-id-1 div.sk-label label {font-family: monospace;font-weight: bold;display: inline-block;line-height: 1.2em;}#sk-container-id-1 div.sk-label-container {text-align: center;}#sk-container-id-1 div.sk-container {/* jupyter's `normalize.less` sets `[hidden] { display: none; }` but bootstrap.min.css set `[hidden] { display: none !important; }` so we also need the `!important` here to be able to override the default hidden behavior on the sphinx rendered scikit-learn.org. See: https://github.com/scikit-learn/scikit-learn/issues/21755 */display: inline-block !important;position: relative;}#sk-container-id-1 div.sk-text-repr-fallback {display: none;}</style><div id=\"sk-container-id-1\" class=\"sk-top-container\"><div class=\"sk-text-repr-fallback\"><pre>LogisticRegression(C=1)</pre><b>In a Jupyter environment, please rerun this cell to show the HTML representation or trust the notebook. <br />On GitHub, the HTML representation is unable to render, please try loading this page with nbviewer.org.</b></div><div class=\"sk-container\" hidden><div class=\"sk-item\"><div class=\"sk-estimator sk-toggleable\"><input class=\"sk-toggleable__control sk-hidden--visually\" id=\"sk-estimator-id-1\" type=\"checkbox\" checked><label for=\"sk-estimator-id-1\" class=\"sk-toggleable__label sk-toggleable__label-arrow\">LogisticRegression</label><div class=\"sk-toggleable__content\"><pre>LogisticRegression(C=1)</pre></div></div></div></div></div>"
      ],
      "text/plain": [
       "LogisticRegression(C=1)"
      ]
     },
     "execution_count": 154,
     "metadata": {},
     "output_type": "execute_result"
    }
   ],
   "source": [
    "mod = linear_model.LogisticRegression(C=1)\n",
    "mod.fit(X_train, y_train)"
   ]
  },
  {
   "cell_type": "code",
   "execution_count": 155,
   "metadata": {},
   "outputs": [],
   "source": [
    "pred = mod.predict(X_test)"
   ]
  },
  {
   "cell_type": "code",
   "execution_count": 156,
   "metadata": {},
   "outputs": [
    {
     "data": {
      "text/plain": [
       "0.7381651752168864"
      ]
     },
     "execution_count": 156,
     "metadata": {},
     "output_type": "execute_result"
    }
   ],
   "source": [
    "correct = pred == y_test\n",
    "accuracy = sum(correct) / len(correct)\n",
    "accuracy"
   ]
  },
  {
   "cell_type": "code",
   "execution_count": 39,
   "metadata": {},
   "outputs": [],
   "source": [
    "#Using class_weight = balanced yield to very low accuracy\n",
    "#About 0.53\n",
    "# mod1_2 = linear_model.LogisticRegression(C=1, class_weight = 'balanced')\n",
    "# mod1_2.fit(X_train, y_train)\n",
    "# pred1_2 = mod1_2.predict(X_test)\n",
    "# correct = pred1_2 == y_test\n",
    "# accuracy = sum(correct) / len(correct)\n",
    "# accuracy"
   ]
  },
  {
   "cell_type": "markdown",
   "metadata": {},
   "source": [
    "## SVM: Linear Support Vector Machine"
   ]
  },
  {
   "cell_type": "code",
   "execution_count": 142,
   "metadata": {},
   "outputs": [],
   "source": [
    "punct = set(string.punctuation)\n",
    "texts = []\n",
    "texts_sum = []\n",
    "for x in cloth_cleaned:\n",
    "    texts.append(''.join([c for c in x['review_text'].lower() if not c in punct]))\n",
    "    texts_sum.append(''.join([c for c in x['review_summary'].lower() if not c in punct]))"
   ]
  },
  {
   "cell_type": "code",
   "execution_count": 161,
   "metadata": {},
   "outputs": [
    {
     "name": "stderr",
     "output_type": "stream",
     "text": [
      "/Library/Frameworks/Python.framework/Versions/3.11/lib/python3.11/site-packages/sklearn/svm/_classes.py:32: FutureWarning: The default value of `dual` will change from `True` to `'auto'` in 1.5. Set the value of `dual` explicitly to suppress the warning.\n",
      "  warnings.warn(\n"
     ]
    },
    {
     "data": {
      "text/plain": [
       "0.8031151796693538"
      ]
     },
     "execution_count": 161,
     "metadata": {},
     "output_type": "execute_result"
    }
   ],
   "source": [
    "X_train, X_temp, y_train, y_temp = train_test_split(texts, y_lst, test_size=0.2, random_state=42)\n",
    "X_val, X_test, y_val, y_test = train_test_split(X_temp, y_temp, test_size=0.5, random_state=42)\n",
    "vectorizer = TfidfVectorizer(max_features=1000, stop_words='english', ngram_range=(1,2))\n",
    "X_train_tfidf = vectorizer.fit_transform(X_train)\n",
    "X_val_tfidf = vectorizer.transform(X_val)\n",
    "X_test_tfidf = vectorizer.transform(X_test)\n",
    "\n",
    "# Create a pipeline with Linear SVM\n",
    "model = make_pipeline(LinearSVC())\n",
    "\n",
    "# Train the model on the training set\n",
    "model.fit(X_train_tfidf, y_train)\n",
    "\n",
    "# Make predictions on the validation set\n",
    "predictions_val = model.predict(X_val_tfidf)\n",
    "\n",
    "# Evaluate the model on the validation set\n",
    "accuracy = accuracy_score(y_val, predictions_val)\n",
    "accuracy"
   ]
  },
  {
   "cell_type": "code",
   "execution_count": 162,
   "metadata": {},
   "outputs": [
    {
     "name": "stderr",
     "output_type": "stream",
     "text": [
      "/Library/Frameworks/Python.framework/Versions/3.11/lib/python3.11/site-packages/sklearn/svm/_classes.py:32: FutureWarning: The default value of `dual` will change from `True` to `'auto'` in 1.5. Set the value of `dual` explicitly to suppress the warning.\n",
      "  warnings.warn(\n"
     ]
    },
    {
     "data": {
      "text/plain": [
       "0.7553627544746551"
      ]
     },
     "execution_count": 162,
     "metadata": {},
     "output_type": "execute_result"
    }
   ],
   "source": [
    "X_train, X_temp, y_train, y_temp = train_test_split(texts_sum, y_lst, test_size=0.2, random_state=42)\n",
    "X_val, X_test, y_val, y_test = train_test_split(X_temp, y_temp, test_size=0.5, random_state=42)\n",
    "vectorizer = TfidfVectorizer(max_features=1000, stop_words='english', ngram_range=(1,2))\n",
    "X_train_tfidf = vectorizer.fit_transform(X_train)\n",
    "X_val_tfidf = vectorizer.transform(X_val)\n",
    "X_test_tfidf = vectorizer.transform(X_test)\n",
    "\n",
    "# Create a pipeline with Linear SVM\n",
    "model = make_pipeline(LinearSVC())\n",
    "\n",
    "# Train the model on the training set\n",
    "model.fit(X_train_tfidf, y_train)\n",
    "\n",
    "# Make predictions on the validation set\n",
    "predictions_val = model.predict(X_val_tfidf)\n",
    "\n",
    "# Evaluate the model on the validation set\n",
    "accuracy = accuracy_score(y_val, predictions_val)\n",
    "accuracy"
   ]
  }
 ],
 "metadata": {
  "kernelspec": {
   "display_name": "Python 3 (ipykernel)",
   "language": "python",
   "name": "python3"
  },
  "language_info": {
   "codemirror_mode": {
    "name": "ipython",
    "version": 3
   },
   "file_extension": ".py",
   "mimetype": "text/x-python",
   "name": "python",
   "nbconvert_exporter": "python",
   "pygments_lexer": "ipython3",
   "version": "3.10.9"
  }
 },
 "nbformat": 4,
 "nbformat_minor": 5
}
