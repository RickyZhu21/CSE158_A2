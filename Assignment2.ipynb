{
 "cells": [
  {
   "cell_type": "code",
   "execution_count": 1,
   "id": "fc1eeeb6",
   "metadata": {},
   "outputs": [],
   "source": [
    "import gzip\n",
    "import collections\n",
    "from sklearn import linear_model\n",
    "from sklearn import metrics\n",
    "import random\n",
    "import numpy as np\n",
    "import string\n",
    "import math\n",
    "from sklearn.feature_extraction.text import TfidfVectorizer\n",
    "import matplotlib.pyplot as plt\n",
    "from collections import defaultdict"
   ]
  },
  {
   "cell_type": "code",
   "execution_count": 2,
   "id": "2ae57344",
   "metadata": {},
   "outputs": [],
   "source": [
    "def readGz(path):\n",
    "    for l in gzip.open(path, 'rt', encoding='utf-8'):\n",
    "        if 'null' not in l:\n",
    "            yield eval(l)"
   ]
  },
  {
   "cell_type": "code",
   "execution_count": 3,
   "id": "0dbdf488",
   "metadata": {},
   "outputs": [],
   "source": [
    "all_cloth = list(readGz(\"renttherunway_final_data.json.gz\"))"
   ]
  },
  {
   "cell_type": "code",
   "execution_count": 4,
   "id": "f9689d02",
   "metadata": {},
   "outputs": [
    {
     "data": {
      "text/plain": [
       "{'fit': 'fit',\n",
       " 'user_id': '420272',\n",
       " 'bust size': '34d',\n",
       " 'item_id': '2260466',\n",
       " 'weight': '137lbs',\n",
       " 'rating': '10',\n",
       " 'rented for': 'vacation',\n",
       " 'review_text': \"An adorable romper! Belt and zipper were a little hard to navigate in a full day of wear/bathroom use, but that's to be expected. Wish it had pockets, but other than that-- absolutely perfect! I got a million compliments.\",\n",
       " 'body type': 'hourglass',\n",
       " 'review_summary': 'So many compliments!',\n",
       " 'category': 'romper',\n",
       " 'height': '5\\' 8\"',\n",
       " 'size': 14,\n",
       " 'age': '28',\n",
       " 'review_date': 'April 20, 2016'}"
      ]
     },
     "execution_count": 4,
     "metadata": {},
     "output_type": "execute_result"
    }
   ],
   "source": [
    "all_cloth[0]"
   ]
  },
  {
   "cell_type": "code",
   "execution_count": 5,
   "id": "4f2e37aa",
   "metadata": {},
   "outputs": [
    {
     "data": {
      "text/plain": [
       "192462"
      ]
     },
     "execution_count": 5,
     "metadata": {},
     "output_type": "execute_result"
    }
   ],
   "source": [
    "len(all_cloth)"
   ]
  },
  {
   "cell_type": "code",
   "execution_count": 12,
   "id": "6a183509",
   "metadata": {},
   "outputs": [],
   "source": [
    "for item in all_cloth:\n",
    "    keys_with_spaces = list(item.keys())  # Extracting keys to modify while iterating\n",
    "    for key in keys_with_spaces:\n",
    "        if ' ' in key:\n",
    "            new_key = key.replace(' ', '_')  # Replacing spaces with underscores\n",
    "            item[new_key] = item.pop(key)  # Replace the key in the dictionary"
   ]
  },
  {
   "cell_type": "code",
   "execution_count": 13,
   "id": "3fc47040",
   "metadata": {},
   "outputs": [
    {
     "data": {
      "text/plain": [
       "{'fit': 'fit',\n",
       " 'user_id': '420272',\n",
       " 'item_id': '2260466',\n",
       " 'weight': '137lbs',\n",
       " 'rating': '10',\n",
       " 'review_text': \"An adorable romper! Belt and zipper were a little hard to navigate in a full day of wear/bathroom use, but that's to be expected. Wish it had pockets, but other than that-- absolutely perfect! I got a million compliments.\",\n",
       " 'review_summary': 'So many compliments!',\n",
       " 'category': 'romper',\n",
       " 'height': '5\\' 8\"',\n",
       " 'size': 14,\n",
       " 'age': '28',\n",
       " 'review_date': 'April 20, 2016',\n",
       " 'bust_size': '34d',\n",
       " 'rented_for': 'vacation',\n",
       " 'body_type': 'hourglass'}"
      ]
     },
     "execution_count": 13,
     "metadata": {},
     "output_type": "execute_result"
    }
   ],
   "source": [
    "all_cloth[0]"
   ]
  },
  {
   "cell_type": "code",
   "execution_count": 6,
   "id": "e202010c",
   "metadata": {},
   "outputs": [],
   "source": [
    "#Data cleaning:\n",
    "#1: We noticed that some clothing data between user and item is incomplete\n",
    "cloths_key_len = []\n",
    "for item in all_cloth:\n",
    "    cloths_key_len.append(len(item.keys()))\n"
   ]
  },
  {
   "cell_type": "code",
   "execution_count": 7,
   "id": "63ed446e",
   "metadata": {},
   "outputs": [
    {
     "name": "stdout",
     "output_type": "stream",
     "text": [
      "[12, 13, 14, 15]\n"
     ]
    }
   ],
   "source": [
    "#Incomplete clothing data for the item if the item has less than the standard 15 variables to describe it. \n",
    "unique_values = list(set(cloths_key_len))\n",
    "print(unique_values)"
   ]
  },
  {
   "cell_type": "code",
   "execution_count": 8,
   "id": "e10ebc7c",
   "metadata": {},
   "outputs": [
    {
     "data": {
      "text/plain": [
       "146381"
      ]
     },
     "execution_count": 8,
     "metadata": {},
     "output_type": "execute_result"
    }
   ],
   "source": [
    "#Cleaned Dataset \n",
    "cloth_cleaned = []\n",
    "for item in all_cloth:\n",
    "    if len(item.keys()) == 15:\n",
    "        cloth_cleaned.append(item)\n",
    "len(cloth_cleaned)"
   ]
  },
  {
   "cell_type": "code",
   "execution_count": 22,
   "id": "57ce620e",
   "metadata": {},
   "outputs": [
    {
     "data": {
      "text/plain": [
       "{'fit': 'fit',\n",
       " 'user_id': '734848',\n",
       " 'item_id': '364092',\n",
       " 'weight': '138lbs',\n",
       " 'rating': '8',\n",
       " 'review_text': \"Didn't actually wear it. It fit perfectly. The fabric is a little thicker, so higher quality. Felt a bit too conservative for my taste. I rented it for the color and loved the berry shade of red.\",\n",
       " 'review_summary': 'Traditional with a touch a sass',\n",
       " 'category': 'dress',\n",
       " 'height': '5\\' 8\"',\n",
       " 'size': 8,\n",
       " 'age': '45',\n",
       " 'review_date': 'April 30, 2016',\n",
       " 'bust_size': '32b',\n",
       " 'rented_for': 'date',\n",
       " 'body_type': 'athletic'}"
      ]
     },
     "execution_count": 22,
     "metadata": {},
     "output_type": "execute_result"
    }
   ],
   "source": [
    "cloth_cleaned[4]"
   ]
  },
  {
   "cell_type": "code",
   "execution_count": 10,
   "id": "877f1998",
   "metadata": {},
   "outputs": [],
   "source": [
    "#User item pair for recommendation:\n",
    "user_dict = defaultdict(list)\n",
    "for item in cloth_cleaned:\n",
    "    user_dict[item['user_id']].append(item['item_id'])"
   ]
  },
  {
   "cell_type": "code",
   "execution_count": 14,
   "id": "9031b3dc",
   "metadata": {},
   "outputs": [],
   "source": [
    "#Different occasions of clothes\n",
    "cloth_occasions = []\n",
    "for item in cloth_cleaned:\n",
    "    cloth_occasions.append(item['rented_for'])"
   ]
  },
  {
   "cell_type": "code",
   "execution_count": 15,
   "id": "d1a84207",
   "metadata": {},
   "outputs": [
    {
     "name": "stdout",
     "output_type": "stream",
     "text": [
      "['formal affair', 'party', 'date', 'work', 'other', 'wedding', 'everyday', 'vacation', 'party: cocktail']\n"
     ]
    }
   ],
   "source": [
    "unique_occasions = list(set(cloth_occasions))\n",
    "print(unique_occasions)"
   ]
  },
  {
   "cell_type": "code",
   "execution_count": 17,
   "id": "7d520a7a",
   "metadata": {},
   "outputs": [
    {
     "data": {
      "text/plain": [
       "9"
      ]
     },
     "execution_count": 17,
     "metadata": {},
     "output_type": "execute_result"
    }
   ],
   "source": [
    "len(unique_occasions)"
   ]
  },
  {
   "cell_type": "markdown",
   "metadata": {},
   "source": [
    "# Explore Dataset"
   ]
  },
  {
   "cell_type": "code",
   "execution_count": 41,
   "metadata": {},
   "outputs": [
    {
     "name": "stdout",
     "output_type": "stream",
     "text": [
      "{'vacation': 3238, 'date': 5929, 'work': 12124, 'everyday': 13263, 'party': 27198, 'formal affair': 30496, 'wedding': 42622, 'other': 11510}\n",
      "{2: 783, 4: 2205, 6: 8341, 8: 40761, 10: 94291}\n"
     ]
    }
   ],
   "source": [
    "# count occasion\n",
    "occasions_num = defaultdict(int)\n",
    "for x in cloth_cleaned:\n",
    "    occasions_num[x['rented_for']] += 1\n",
    "occasions_num = dict(sorted(occasions_num.items(), key=lambda item: item[1]))\n",
    "temp = occasions_num.pop('other')\n",
    "occasions_num['other'] = temp\n",
    "occasions_num.pop('party: cocktail')\n",
    "print(occasions_num)\n",
    "\n",
    "# count ratings\n",
    "rating_num = defaultdict(int)\n",
    "for x in cloth_cleaned:\n",
    "    rating_num[int(x['rating'])] += 1\n",
    "rating_num = dict(sorted(rating_num.items(), key=lambda item: item[0]))\n",
    "print(rating_num)"
   ]
  },
  {
   "cell_type": "code",
   "execution_count": 43,
   "metadata": {},
   "outputs": [
    {
     "data": {
      "image/png": "[encoded data removed]",
      "text/plain": [
       "<Figure size 1000x600 with 1 Axes>"
      ]
     },
     "metadata": {},
     "output_type": "display_data"
    }
   ],
   "source": [
    "labels = list(occasions_num.keys())\n",
    "values = list(occasions_num.values())\n",
    "\n",
    "plt.figure(figsize=(10, 6))\n",
    "plt.bar(labels, values, color='skyblue')\n",
    "plt.ylabel('Count')\n",
    "plt.xlabel('Occasions')\n",
    "plt.title('Figure 1: Occasions Distribution')\n",
    "\n",
    "plt.show()"
   ]
  },
  {
   "cell_type": "code",
   "execution_count": 51,
   "metadata": {},
   "outputs": [
    {
     "data": {
      "image/png": "[encoded data removed]",
      "text/plain": [
       "<Figure size 700x500 with 1 Axes>"
      ]
     },
     "metadata": {},
     "output_type": "display_data"
    }
   ],
   "source": [
    "labels = list(rating_num.keys())\n",
    "values = list(rating_num.values())\n",
    "\n",
    "plt.figure(figsize=(7, 5))\n",
    "plt.bar(labels, values, color='skyblue', width=1.5)\n",
    "plt.ylabel('Count')\n",
    "plt.xlabel('Ratings')\n",
    "plt.title('Figure 2: Rating Distribution')\n",
    "\n",
    "\n",
    "plt.show()"
   ]
  }
 ],
 "metadata": {
  "kernelspec": {
   "display_name": "Python 3 (ipykernel)",
   "language": "python",
   "name": "python3"
  },
  "language_info": {
   "codemirror_mode": {
    "name": "ipython",
    "version": 3
   },
   "file_extension": ".py",
   "mimetype": "text/x-python",
   "name": "python",
   "nbconvert_exporter": "python",
   "pygments_lexer": "ipython3",
   "version": "3.11.0"
  }
 },
 "nbformat": 4,
 "nbformat_minor": 5
}
