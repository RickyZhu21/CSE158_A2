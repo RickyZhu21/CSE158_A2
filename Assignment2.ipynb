{
 "cells": [
  {
   "cell_type": "code",
   "execution_count": 13,
   "id": "fc1eeeb6",
   "metadata": {},
   "outputs": [],
   "source": [
    "import gzip\n",
    "import collections\n",
    "from sklearn import linear_model\n",
    "from sklearn import metrics\n",
    "import random\n",
    "import numpy as np\n",
    "import string\n",
    "import math\n",
    "from sklearn.feature_extraction.text import TfidfVectorizer\n",
    "import matplotlib.pyplot as plt\n",
    "from collections import defaultdict"
   ]
  },
  {
   "cell_type": "code",
   "execution_count": 2,
   "id": "2ae57344",
   "metadata": {},
   "outputs": [],
   "source": [
    "def readGz(path):\n",
    "    for l in gzip.open(path, 'rt', encoding='utf-8'):\n",
    "        if 'null' not in l:\n",
    "            yield eval(l)"
   ]
  },
  {
   "cell_type": "code",
   "execution_count": 3,
   "id": "0dbdf488",
   "metadata": {},
   "outputs": [],
   "source": [
    "all_cloth = list(readGz(\"renttherunway_final_data.json.gz\"))"
   ]
  },
  {
   "cell_type": "code",
   "execution_count": 27,
   "id": "f9689d02",
   "metadata": {},
   "outputs": [
    {
     "data": {
      "text/plain": [
       "{'fit': 'fit',\n",
       " 'user_id': '420272',\n",
       " 'bust size': '34d',\n",
       " 'item_id': '2260466',\n",
       " 'weight': '137lbs',\n",
       " 'rating': '10',\n",
       " 'rented for': 'vacation',\n",
       " 'review_text': \"An adorable romper! Belt and zipper were a little hard to navigate in a full day of wear/bathroom use, but that's to be expected. Wish it had pockets, but other than that-- absolutely perfect! I got a million compliments.\",\n",
       " 'body type': 'hourglass',\n",
       " 'review_summary': 'So many compliments!',\n",
       " 'category': 'romper',\n",
       " 'height': '5\\' 8\"',\n",
       " 'size': 14,\n",
       " 'age': '28',\n",
       " 'review_date': 'April 20, 2016'}"
      ]
     },
     "execution_count": 27,
     "metadata": {},
     "output_type": "execute_result"
    }
   ],
   "source": [
    "all_cloth[0]"
   ]
  },
  {
   "cell_type": "code",
   "execution_count": 5,
   "id": "4f2e37aa",
   "metadata": {},
   "outputs": [
    {
     "data": {
      "text/plain": [
       "192462"
      ]
     },
     "execution_count": 5,
     "metadata": {},
     "output_type": "execute_result"
    }
   ],
   "source": [
    "len(all_cloth)"
   ]
  },
  {
   "cell_type": "code",
   "execution_count": 31,
   "id": "6a183509",
   "metadata": {},
   "outputs": [],
   "source": [
    "for item in all_cloth:\n",
    "    keys_with_spaces = list(item.keys())  # Extracting keys to modify while iterating\n",
    "    for key in keys_with_spaces:\n",
    "        if ' ' in key:\n",
    "            new_key = key.replace(' ', '_')  # Replacing spaces with underscores\n",
    "            item[new_key] = item.pop(key)  # Replace the key in the dictionary"
   ]
  },
  {
   "cell_type": "code",
   "execution_count": 32,
   "id": "3fc47040",
   "metadata": {},
   "outputs": [
    {
     "data": {
      "text/plain": [
       "{'fit': 'fit',\n",
       " 'user_id': '420272',\n",
       " 'item_id': '2260466',\n",
       " 'weight': '137lbs',\n",
       " 'rating': '10',\n",
       " 'review_text': \"An adorable romper! Belt and zipper were a little hard to navigate in a full day of wear/bathroom use, but that's to be expected. Wish it had pockets, but other than that-- absolutely perfect! I got a million compliments.\",\n",
       " 'review_summary': 'So many compliments!',\n",
       " 'category': 'romper',\n",
       " 'height': '5\\' 8\"',\n",
       " 'size': 14,\n",
       " 'age': '28',\n",
       " 'review_date': 'April 20, 2016',\n",
       " 'bust_size': '34d',\n",
       " 'rented_for': 'vacation',\n",
       " 'body_type': 'hourglass'}"
      ]
     },
     "execution_count": 32,
     "metadata": {},
     "output_type": "execute_result"
    }
   ],
   "source": [
    "all_cloth[0]"
   ]
  },
  {
   "cell_type": "code",
   "execution_count": 33,
   "id": "e202010c",
   "metadata": {},
   "outputs": [],
   "source": [
    "#Data cleaning:\n",
    "#1: We noticed that some clothing data between user and item is incomplete\n",
    "cloths_key_len = []\n",
    "for item in all_cloth:\n",
    "    cloths_key_len.append(len(item.keys()))\n"
   ]
  },
  {
   "cell_type": "code",
   "execution_count": 34,
   "id": "63ed446e",
   "metadata": {},
   "outputs": [
    {
     "name": "stdout",
     "output_type": "stream",
     "text": [
      "[12, 13, 14, 15]\n"
     ]
    }
   ],
   "source": [
    "#Incomplete clothing data for the item if the item has less than the standard 15 variables to describe it. \n",
    "unique_values = list(set(cloths_key_len))\n",
    "print(unique_values)"
   ]
  },
  {
   "cell_type": "code",
   "execution_count": 35,
   "id": "e10ebc7c",
   "metadata": {},
   "outputs": [
    {
     "data": {
      "text/plain": [
       "146381"
      ]
     },
     "execution_count": 35,
     "metadata": {},
     "output_type": "execute_result"
    }
   ],
   "source": [
    "#Cleaned Dataset \n",
    "cloth_cleaned = []\n",
    "for item in all_cloth:\n",
    "    if len(item.keys()) == 15:\n",
    "        cloth_cleaned.append(item)\n",
    "len(cloth_cleaned)"
   ]
  },
  {
   "cell_type": "code",
   "execution_count": 36,
   "id": "57ce620e",
   "metadata": {},
   "outputs": [
    {
     "data": {
      "text/plain": [
       "{'fit': 'fit',\n",
       " 'user_id': '420272',\n",
       " 'item_id': '2260466',\n",
       " 'weight': '137lbs',\n",
       " 'rating': '10',\n",
       " 'review_text': \"An adorable romper! Belt and zipper were a little hard to navigate in a full day of wear/bathroom use, but that's to be expected. Wish it had pockets, but other than that-- absolutely perfect! I got a million compliments.\",\n",
       " 'review_summary': 'So many compliments!',\n",
       " 'category': 'romper',\n",
       " 'height': '5\\' 8\"',\n",
       " 'size': 14,\n",
       " 'age': '28',\n",
       " 'review_date': 'April 20, 2016',\n",
       " 'bust_size': '34d',\n",
       " 'rented_for': 'vacation',\n",
       " 'body_type': 'hourglass'}"
      ]
     },
     "execution_count": 36,
     "metadata": {},
     "output_type": "execute_result"
    }
   ],
   "source": [
    "cloth_cleaned[0]"
   ]
  },
  {
   "cell_type": "code",
   "execution_count": 37,
   "id": "877f1998",
   "metadata": {},
   "outputs": [],
   "source": [
    "#User item pair for recommendation:\n",
    "user_dict = defaultdict(list)\n",
    "for item in cloth_cleaned:\n",
    "    user_dict[item['user_id']].append(item['item_id'])"
   ]
  },
  {
   "cell_type": "code",
   "execution_count": 49,
   "id": "9031b3dc",
   "metadata": {},
   "outputs": [],
   "source": [
    "#Different occasions of clothes\n",
    "cloth_occasions = []\n",
    "for item in cloth_cleaned:\n",
    "    cloth_occasions.append(item['rented_for'])"
   ]
  },
  {
   "cell_type": "code",
   "execution_count": 52,
   "id": "d1a84207",
   "metadata": {},
   "outputs": [
    {
     "name": "stdout",
     "output_type": "stream",
     "text": [
      "['vacation', 'other', 'formal affair', 'wedding', 'date', 'party', 'everyday', 'party: cocktail', 'work']\n"
     ]
    }
   ],
   "source": [
    "unique_occasions = list(set(cloth_occasions))\n",
    "print(unique_occasions)"
   ]
  },
  {
   "cell_type": "code",
   "execution_count": 53,
   "id": "7d520a7a",
   "metadata": {},
   "outputs": [
    {
     "data": {
      "text/plain": [
       "9"
      ]
     },
     "execution_count": 53,
     "metadata": {},
     "output_type": "execute_result"
    }
   ],
   "source": [
    "len(unique_occasions)"
   ]
  },
  {
   "cell_type": "code",
   "execution_count": null,
   "id": "0efc04c9",
   "metadata": {},
   "outputs": [],
   "source": []
  }
 ],
 "metadata": {
  "kernelspec": {
   "display_name": "Python 3 (ipykernel)",
   "language": "python",
   "name": "python3"
  },
  "language_info": {
   "codemirror_mode": {
    "name": "ipython",
    "version": 3
   },
   "file_extension": ".py",
   "mimetype": "text/x-python",
   "name": "python",
   "nbconvert_exporter": "python",
   "pygments_lexer": "ipython3",
   "version": "3.9.5"
  }
 },
 "nbformat": 4,
 "nbformat_minor": 5
}
