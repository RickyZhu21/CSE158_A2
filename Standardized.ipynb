{
 "cells": [
  {
   "cell_type": "code",
   "execution_count": 55,
   "id": "fc1eeeb6",
   "metadata": {},
   "outputs": [],
   "source": [
    "import gzip\n",
    "import collections\n",
    "from sklearn import linear_model\n",
    "from sklearn import metrics\n",
    "import random\n",
    "import numpy as np\n",
    "import string\n",
    "import math\n",
    "import pandas as pd\n",
    "from sklearn.feature_extraction.text import TfidfVectorizer\n",
    "import matplotlib.pyplot as plt\n",
    "from collections import defaultdict\n",
    "import re"
   ]
  },
  {
   "cell_type": "code",
   "execution_count": 56,
   "id": "2ae57344",
   "metadata": {},
   "outputs": [],
   "source": [
    "def readGz(path):\n",
    "    for l in gzip.open(path, 'rt', encoding='utf-8'):\n",
    "        if 'null' not in l:\n",
    "            yield eval(l)"
   ]
  },
  {
   "cell_type": "code",
   "execution_count": 57,
   "id": "0dbdf488",
   "metadata": {},
   "outputs": [],
   "source": [
    "all_cloth = list(readGz(\"renttherunway_final_data.json.gz\"))"
   ]
  },
  {
   "cell_type": "code",
   "execution_count": 58,
   "id": "f9689d02",
   "metadata": {},
   "outputs": [
    {
     "data": {
      "text/plain": [
       "{'fit': 'fit',\n",
       " 'user_id': '420272',\n",
       " 'bust size': '34d',\n",
       " 'item_id': '2260466',\n",
       " 'weight': '137lbs',\n",
       " 'rating': '10',\n",
       " 'rented for': 'vacation',\n",
       " 'review_text': \"An adorable romper! Belt and zipper were a little hard to navigate in a full day of wear/bathroom use, but that's to be expected. Wish it had pockets, but other than that-- absolutely perfect! I got a million compliments.\",\n",
       " 'body type': 'hourglass',\n",
       " 'review_summary': 'So many compliments!',\n",
       " 'category': 'romper',\n",
       " 'height': '5\\' 8\"',\n",
       " 'size': 14,\n",
       " 'age': '28',\n",
       " 'review_date': 'April 20, 2016'}"
      ]
     },
     "execution_count": 58,
     "metadata": {},
     "output_type": "execute_result"
    }
   ],
   "source": [
    "all_cloth[0]"
   ]
  },
  {
   "cell_type": "code",
   "execution_count": 59,
   "id": "4f2e37aa",
   "metadata": {},
   "outputs": [
    {
     "data": {
      "text/plain": [
       "192462"
      ]
     },
     "execution_count": 59,
     "metadata": {},
     "output_type": "execute_result"
    }
   ],
   "source": [
    "len(all_cloth)"
   ]
  },
  {
   "cell_type": "code",
   "execution_count": 60,
   "id": "6a183509",
   "metadata": {},
   "outputs": [],
   "source": [
    "for item in all_cloth:\n",
    "    keys_with_spaces = list(item.keys())  # Extracting keys to modify while iterating\n",
    "    for key in keys_with_spaces:\n",
    "        if ' ' in key:\n",
    "            new_key = key.replace(' ', '_')  # Replacing spaces with underscores\n",
    "            item[new_key] = item.pop(key)  # Replace the key in the dictionary"
   ]
  },
  {
   "cell_type": "code",
   "execution_count": 61,
   "id": "3fc47040",
   "metadata": {},
   "outputs": [
    {
     "data": {
      "text/plain": [
       "{'fit': 'large',\n",
       " 'user_id': '649616',\n",
       " 'item_id': '1840637',\n",
       " 'weight': '161lbs',\n",
       " 'rating': '8',\n",
       " 'review_text': 'I wore this beautiful dress to a golf outing at a prestigious country club as an appearance with my husband. I love golfing in dresses because it gives you that polished look with out being stuffed into too hot shorts (the shoes are hot enough)  I am normally a medium, but per recommendations, I sized down to a small and it still fit very loose. I tied the bow around the back of the dress because I did not like how the dropped hem looked with the bow in the front. I have a pretty big bottom and hips, but this dress did a great job of dressing them up. I also stayed cool in this material for eight hours on the course!',\n",
       " 'review_summary': 'This was the PERFECT outfit for having to be outside all day but still chic!!',\n",
       " 'category': 'shirtdress',\n",
       " 'height': '5\\' 8\"',\n",
       " 'size': 8,\n",
       " 'age': '29',\n",
       " 'review_date': 'July 12, 2016',\n",
       " 'bust_size': '34c',\n",
       " 'rented_for': 'work',\n",
       " 'body_type': 'hourglass'}"
      ]
     },
     "execution_count": 61,
     "metadata": {},
     "output_type": "execute_result"
    }
   ],
   "source": [
    "all_cloth[133]"
   ]
  },
  {
   "cell_type": "code",
   "execution_count": 62,
   "id": "e202010c",
   "metadata": {},
   "outputs": [],
   "source": [
    "#Data cleaning:\n",
    "#1: We noticed that some clothing data between user and item is incomplete\n",
    "cloths_key_len = []\n",
    "for item in all_cloth:\n",
    "    cloths_key_len.append(len(item.keys()))\n"
   ]
  },
  {
   "cell_type": "code",
   "execution_count": 63,
   "id": "63ed446e",
   "metadata": {},
   "outputs": [
    {
     "name": "stdout",
     "output_type": "stream",
     "text": [
      "[12, 13, 14, 15]\n"
     ]
    }
   ],
   "source": [
    "#Incomplete clothing data for the item if the item has less than the standard 15 variables to describe it. \n",
    "unique_values = list(set(cloths_key_len))\n",
    "print(unique_values)"
   ]
  },
  {
   "cell_type": "code",
   "execution_count": 64,
   "id": "e10ebc7c",
   "metadata": {},
   "outputs": [
    {
     "data": {
      "text/plain": [
       "146381"
      ]
     },
     "execution_count": 64,
     "metadata": {},
     "output_type": "execute_result"
    }
   ],
   "source": [
    "#Cleaned Dataset \n",
    "cloth_cleaned = []\n",
    "for item in all_cloth:\n",
    "    if len(item.keys()) == 15:\n",
    "        cloth_cleaned.append(item)\n",
    "len(cloth_cleaned)"
   ]
  },
  {
   "cell_type": "code",
   "execution_count": 65,
   "id": "57ce620e",
   "metadata": {},
   "outputs": [
    {
     "data": {
      "text/plain": [
       "{'fit': 'fit',\n",
       " 'user_id': '420272',\n",
       " 'item_id': '2260466',\n",
       " 'weight': '137lbs',\n",
       " 'rating': '10',\n",
       " 'review_text': \"An adorable romper! Belt and zipper were a little hard to navigate in a full day of wear/bathroom use, but that's to be expected. Wish it had pockets, but other than that-- absolutely perfect! I got a million compliments.\",\n",
       " 'review_summary': 'So many compliments!',\n",
       " 'category': 'romper',\n",
       " 'height': '5\\' 8\"',\n",
       " 'size': 14,\n",
       " 'age': '28',\n",
       " 'review_date': 'April 20, 2016',\n",
       " 'bust_size': '34d',\n",
       " 'rented_for': 'vacation',\n",
       " 'body_type': 'hourglass'}"
      ]
     },
     "execution_count": 65,
     "metadata": {},
     "output_type": "execute_result"
    }
   ],
   "source": [
    "cloth_cleaned[0]"
   ]
  },
  {
   "cell_type": "code",
   "execution_count": 66,
   "id": "877f1998",
   "metadata": {},
   "outputs": [],
   "source": [
    "#User item pair for recommendation:\n",
    "user_dict = defaultdict(list)\n",
    "for item in cloth_cleaned:\n",
    "    user_dict[item['user_id']].append(item['item_id'])"
   ]
  },
  {
   "cell_type": "code",
   "execution_count": 67,
   "id": "9031b3dc",
   "metadata": {},
   "outputs": [],
   "source": [
    "#Different occasions of clothes\n",
    "cloth_occasions = []\n",
    "for item in cloth_cleaned:\n",
    "    cloth_occasions.append(item['rented_for'])"
   ]
  },
  {
   "cell_type": "code",
   "execution_count": 68,
   "id": "d1a84207",
   "metadata": {},
   "outputs": [
    {
     "name": "stdout",
     "output_type": "stream",
     "text": [
      "['party: cocktail', 'everyday', 'vacation', 'date', 'other', 'wedding', 'work', 'formal affair', 'party']\n"
     ]
    }
   ],
   "source": [
    "unique_occasions = list(set(cloth_occasions))\n",
    "print(unique_occasions)"
   ]
  },
  {
   "cell_type": "code",
   "execution_count": 69,
   "id": "7d520a7a",
   "metadata": {},
   "outputs": [
    {
     "data": {
      "text/plain": [
       "9"
      ]
     },
     "execution_count": 69,
     "metadata": {},
     "output_type": "execute_result"
    }
   ],
   "source": [
    "len(unique_occasions)"
   ]
  },
  {
   "cell_type": "markdown",
   "id": "b72b5010",
   "metadata": {},
   "source": [
    "## Data Standardization"
   ]
  },
  {
   "cell_type": "code",
   "execution_count": 73,
   "id": "0efc04c9",
   "metadata": {},
   "outputs": [],
   "source": [
    "import pandas as pd\n",
    "import re\n",
    "\n",
    "def standardize_data(data):\n",
    "    \"\"\"\n",
    "    Standardizes the clothing dataset, focusing on bust size and height.\n",
    "\n",
    "    Parameters:\n",
    "    data (list of dict): List of dictionaries containing clothing item and user information.\n",
    "\n",
    "    Returns:\n",
    "    DataFrame: A pandas DataFrame with standardized data.\n",
    "    \"\"\"\n",
    "    # Convert list of dictionaries to DataFrame\n",
    "    df = pd.DataFrame(data)\n",
    "\n",
    "    # Standardize bust_size into bra_size and cup_size\n",
    "    bust_split = df['bust_size'].str.extract(r'(\\d+)([a-zA-Z]+)')\n",
    "    df['bra_size'] = bust_split[0].astype(float)\n",
    "    df['cup_size'] = bust_split[1]\n",
    "\n",
    "    # Convert height from feet and inches to inches\n",
    "    def height_to_inches(height):\n",
    "        if isinstance(height, str):\n",
    "            parts = re.match(r\"(\\d+)' (\\d+)\", height)\n",
    "            if parts:\n",
    "                feet, inches = parts.groups()\n",
    "                return int(feet) * 12 + int(inches)\n",
    "        return None\n",
    "\n",
    "    df['height_inches'] = df['height'].apply(height_to_inches)\n",
    "\n",
    "    # Drop the original 'bust_size' and 'height' columns if no longer needed\n",
    "    df.drop(columns=['bust_size', 'height'], inplace=True)\n",
    "\n",
    "    return df"
   ]
  },
  {
   "cell_type": "code",
   "execution_count": 77,
   "id": "0e549b91",
   "metadata": {},
   "outputs": [],
   "source": [
    "standardized_data = standardize_data(cloth_cleaned)"
   ]
  },
  {
   "cell_type": "code",
   "execution_count": 80,
   "id": "1fc42986",
   "metadata": {},
   "outputs": [],
   "source": [
    "first_five_rows = standardized_data.head()"
   ]
  },
  {
   "cell_type": "code",
   "execution_count": 81,
   "id": "c52df3bd",
   "metadata": {},
   "outputs": [
    {
     "data": {
      "text/html": [
       "<div>\n",
       "<style scoped>\n",
       "    .dataframe tbody tr th:only-of-type {\n",
       "        vertical-align: middle;\n",
       "    }\n",
       "\n",
       "    .dataframe tbody tr th {\n",
       "        vertical-align: top;\n",
       "    }\n",
       "\n",
       "    .dataframe thead th {\n",
       "        text-align: right;\n",
       "    }\n",
       "</style>\n",
       "<table border=\"1\" class=\"dataframe\">\n",
       "  <thead>\n",
       "    <tr style=\"text-align: right;\">\n",
       "      <th></th>\n",
       "      <th>fit</th>\n",
       "      <th>user_id</th>\n",
       "      <th>item_id</th>\n",
       "      <th>weight</th>\n",
       "      <th>rating</th>\n",
       "      <th>review_text</th>\n",
       "      <th>review_summary</th>\n",
       "      <th>category</th>\n",
       "      <th>size</th>\n",
       "      <th>age</th>\n",
       "      <th>review_date</th>\n",
       "      <th>rented_for</th>\n",
       "      <th>body_type</th>\n",
       "      <th>bra_size</th>\n",
       "      <th>cup_size</th>\n",
       "      <th>height_inches</th>\n",
       "    </tr>\n",
       "  </thead>\n",
       "  <tbody>\n",
       "    <tr>\n",
       "      <th>0</th>\n",
       "      <td>fit</td>\n",
       "      <td>420272</td>\n",
       "      <td>2260466</td>\n",
       "      <td>137lbs</td>\n",
       "      <td>10</td>\n",
       "      <td>An adorable romper! Belt and zipper were a lit...</td>\n",
       "      <td>So many compliments!</td>\n",
       "      <td>romper</td>\n",
       "      <td>14</td>\n",
       "      <td>28</td>\n",
       "      <td>April 20, 2016</td>\n",
       "      <td>vacation</td>\n",
       "      <td>hourglass</td>\n",
       "      <td>34.0</td>\n",
       "      <td>d</td>\n",
       "      <td>68</td>\n",
       "    </tr>\n",
       "    <tr>\n",
       "      <th>1</th>\n",
       "      <td>fit</td>\n",
       "      <td>273551</td>\n",
       "      <td>153475</td>\n",
       "      <td>132lbs</td>\n",
       "      <td>10</td>\n",
       "      <td>I rented this dress for a photo shoot. The the...</td>\n",
       "      <td>I felt so glamourous!!!</td>\n",
       "      <td>gown</td>\n",
       "      <td>12</td>\n",
       "      <td>36</td>\n",
       "      <td>June 18, 2013</td>\n",
       "      <td>other</td>\n",
       "      <td>straight &amp; narrow</td>\n",
       "      <td>34.0</td>\n",
       "      <td>b</td>\n",
       "      <td>66</td>\n",
       "    </tr>\n",
       "    <tr>\n",
       "      <th>2</th>\n",
       "      <td>fit</td>\n",
       "      <td>909926</td>\n",
       "      <td>126335</td>\n",
       "      <td>135lbs</td>\n",
       "      <td>8</td>\n",
       "      <td>I rented this for my company's black tie award...</td>\n",
       "      <td>Dress arrived on time and in perfect condition.</td>\n",
       "      <td>dress</td>\n",
       "      <td>8</td>\n",
       "      <td>34</td>\n",
       "      <td>February 12, 2014</td>\n",
       "      <td>formal affair</td>\n",
       "      <td>pear</td>\n",
       "      <td>34.0</td>\n",
       "      <td>c</td>\n",
       "      <td>65</td>\n",
       "    </tr>\n",
       "    <tr>\n",
       "      <th>3</th>\n",
       "      <td>fit</td>\n",
       "      <td>151944</td>\n",
       "      <td>616682</td>\n",
       "      <td>145lbs</td>\n",
       "      <td>10</td>\n",
       "      <td>I have always been petite in my upper body and...</td>\n",
       "      <td>Was in love with this dress !!!</td>\n",
       "      <td>gown</td>\n",
       "      <td>12</td>\n",
       "      <td>27</td>\n",
       "      <td>September 26, 2016</td>\n",
       "      <td>wedding</td>\n",
       "      <td>athletic</td>\n",
       "      <td>34.0</td>\n",
       "      <td>b</td>\n",
       "      <td>69</td>\n",
       "    </tr>\n",
       "    <tr>\n",
       "      <th>4</th>\n",
       "      <td>fit</td>\n",
       "      <td>734848</td>\n",
       "      <td>364092</td>\n",
       "      <td>138lbs</td>\n",
       "      <td>8</td>\n",
       "      <td>Didn't actually wear it. It fit perfectly. The...</td>\n",
       "      <td>Traditional with a touch a sass</td>\n",
       "      <td>dress</td>\n",
       "      <td>8</td>\n",
       "      <td>45</td>\n",
       "      <td>April 30, 2016</td>\n",
       "      <td>date</td>\n",
       "      <td>athletic</td>\n",
       "      <td>32.0</td>\n",
       "      <td>b</td>\n",
       "      <td>68</td>\n",
       "    </tr>\n",
       "  </tbody>\n",
       "</table>\n",
       "</div>"
      ],
      "text/plain": [
       "   fit user_id  item_id  weight rating  \\\n",
       "0  fit  420272  2260466  137lbs     10   \n",
       "1  fit  273551   153475  132lbs     10   \n",
       "2  fit  909926   126335  135lbs      8   \n",
       "3  fit  151944   616682  145lbs     10   \n",
       "4  fit  734848   364092  138lbs      8   \n",
       "\n",
       "                                         review_text  \\\n",
       "0  An adorable romper! Belt and zipper were a lit...   \n",
       "1  I rented this dress for a photo shoot. The the...   \n",
       "2  I rented this for my company's black tie award...   \n",
       "3  I have always been petite in my upper body and...   \n",
       "4  Didn't actually wear it. It fit perfectly. The...   \n",
       "\n",
       "                                     review_summary category  size age  \\\n",
       "0                              So many compliments!   romper    14  28   \n",
       "1                           I felt so glamourous!!!     gown    12  36   \n",
       "2  Dress arrived on time and in perfect condition.     dress     8  34   \n",
       "3                   Was in love with this dress !!!     gown    12  27   \n",
       "4                   Traditional with a touch a sass    dress     8  45   \n",
       "\n",
       "          review_date     rented_for          body_type  bra_size cup_size  \\\n",
       "0      April 20, 2016       vacation          hourglass      34.0        d   \n",
       "1       June 18, 2013          other  straight & narrow      34.0        b   \n",
       "2   February 12, 2014  formal affair               pear      34.0        c   \n",
       "3  September 26, 2016        wedding           athletic      34.0        b   \n",
       "4      April 30, 2016           date           athletic      32.0        b   \n",
       "\n",
       "   height_inches  \n",
       "0             68  \n",
       "1             66  \n",
       "2             65  \n",
       "3             69  \n",
       "4             68  "
      ]
     },
     "execution_count": 81,
     "metadata": {},
     "output_type": "execute_result"
    }
   ],
   "source": [
    "first_five_rows"
   ]
  },
  {
   "cell_type": "code",
   "execution_count": null,
   "id": "9f46c7d5",
   "metadata": {},
   "outputs": [],
   "source": []
  }
 ],
 "metadata": {
  "kernelspec": {
   "display_name": "Python 3 (ipykernel)",
   "language": "python",
   "name": "python3"
  },
  "language_info": {
   "codemirror_mode": {
    "name": "ipython",
    "version": 3
   },
   "file_extension": ".py",
   "mimetype": "text/x-python",
   "name": "python",
   "nbconvert_exporter": "python",
   "pygments_lexer": "ipython3",
   "version": "3.11.5"
  }
 },
 "nbformat": 4,
 "nbformat_minor": 5
}
