{
 "cells": [
  {
   "cell_type": "code",
   "execution_count": 55,
   "id": "fc1eeeb6",
   "metadata": {},
   "outputs": [],
   "source": [
    "import gzip\n",
    "import collections\n",
    "from sklearn import linear_model\n",
    "from sklearn import metrics\n",
    "import random\n",
    "import numpy as np\n",
    "import string\n",
    "import math\n",
    "import pandas as pd\n",
    "from sklearn.feature_extraction.text import TfidfVectorizer\n",
    "import matplotlib.pyplot as plt\n",
    "from collections import defaultdict\n",
    "import re"
   ]
  },
  {
   "cell_type": "code",
   "execution_count": 56,
   "id": "2ae57344",
   "metadata": {},
   "outputs": [],
   "source": [
    "def readGz(path):\n",
    "    for l in gzip.open(path, 'rt', encoding='utf-8'):\n",
    "        if 'null' not in l:\n",
    "            yield eval(l)"
   ]
  },
  {
   "cell_type": "code",
   "execution_count": 57,
   "id": "0dbdf488",
   "metadata": {},
   "outputs": [],
   "source": [
    "all_cloth = list(readGz(\"renttherunway_final_data.json.gz\"))"
   ]
  },
  {
   "cell_type": "code",
   "execution_count": 58,
   "id": "f9689d02",
   "metadata": {},
   "outputs": [
    {
     "data": {
      "text/plain": [
       "{'fit': 'fit',\n",
       " 'user_id': '420272',\n",
       " 'bust size': '34d',\n",
       " 'item_id': '2260466',\n",
       " 'weight': '137lbs',\n",
       " 'rating': '10',\n",
       " 'rented for': 'vacation',\n",
       " 'review_text': \"An adorable romper! Belt and zipper were a little hard to navigate in a full day of wear/bathroom use, but that's to be expected. Wish it had pockets, but other than that-- absolutely perfect! I got a million compliments.\",\n",
       " 'body type': 'hourglass',\n",
       " 'review_summary': 'So many compliments!',\n",
       " 'category': 'romper',\n",
       " 'height': '5\\' 8\"',\n",
       " 'size': 14,\n",
       " 'age': '28',\n",
       " 'review_date': 'April 20, 2016'}"
      ]
     },
     "execution_count": 58,
     "metadata": {},
     "output_type": "execute_result"
    }
   ],
   "source": [
    "all_cloth[0]"
   ]
  },
  {
   "cell_type": "code",
   "execution_count": 59,
   "id": "4f2e37aa",
   "metadata": {},
   "outputs": [
    {
     "data": {
      "text/plain": [
       "192462"
      ]
     },
     "execution_count": 59,
     "metadata": {},
     "output_type": "execute_result"
    }
   ],
   "source": [
    "len(all_cloth)"
   ]
  },
  {
   "cell_type": "code",
   "execution_count": 60,
   "id": "6a183509",
   "metadata": {},
   "outputs": [],
   "source": [
    "for item in all_cloth:\n",
    "    keys_with_spaces = list(item.keys())  # Extracting keys to modify while iterating\n",
    "    for key in keys_with_spaces:\n",
    "        if ' ' in key:\n",
    "            new_key = key.replace(' ', '_')  # Replacing spaces with underscores\n",
    "            item[new_key] = item.pop(key)  # Replace the key in the dictionary"
   ]
  },
  {
   "cell_type": "code",
   "execution_count": 61,
   "id": "3fc47040",
   "metadata": {},
   "outputs": [
    {
     "data": {
      "text/plain": [
       "{'fit': 'large',\n",
       " 'user_id': '649616',\n",
       " 'item_id': '1840637',\n",
       " 'weight': '161lbs',\n",
       " 'rating': '8',\n",
       " 'review_text': 'I wore this beautiful dress to a golf outing at a prestigious country club as an appearance with my husband. I love golfing in dresses because it gives you that polished look with out being stuffed into too hot shorts (the shoes are hot enough)  I am normally a medium, but per recommendations, I sized down to a small and it still fit very loose. I tied the bow around the back of the dress because I did not like how the dropped hem looked with the bow in the front. I have a pretty big bottom and hips, but this dress did a great job of dressing them up. I also stayed cool in this material for eight hours on the course!',\n",
       " 'review_summary': 'This was the PERFECT outfit for having to be outside all day but still chic!!',\n",
       " 'category': 'shirtdress',\n",
       " 'height': '5\\' 8\"',\n",
       " 'size': 8,\n",
       " 'age': '29',\n",
       " 'review_date': 'July 12, 2016',\n",
       " 'bust_size': '34c',\n",
       " 'rented_for': 'work',\n",
       " 'body_type': 'hourglass'}"
      ]
     },
     "execution_count": 61,
     "metadata": {},
     "output_type": "execute_result"
    }
   ],
   "source": [
    "all_cloth[133]"
   ]
  },
  {
   "cell_type": "code",
   "execution_count": 62,
   "id": "e202010c",
   "metadata": {},
   "outputs": [],
   "source": [
    "#Data cleaning:\n",
    "#1: We noticed that some clothing data between user and item is incomplete\n",
    "cloths_key_len = []\n",
    "for item in all_cloth:\n",
    "    cloths_key_len.append(len(item.keys()))\n"
   ]
  },
  {
   "cell_type": "code",
   "execution_count": 63,
   "id": "63ed446e",
   "metadata": {},
   "outputs": [
    {
     "name": "stdout",
     "output_type": "stream",
     "text": [
      "[12, 13, 14, 15]\n"
     ]
    }
   ],
   "source": [
    "#Incomplete clothing data for the item if the item has less than the standard 15 variables to describe it. \n",
    "unique_values = list(set(cloths_key_len))\n",
    "print(unique_values)"
   ]
  },
  {
   "cell_type": "code",
   "execution_count": 64,
   "id": "e10ebc7c",
   "metadata": {},
   "outputs": [
    {
     "data": {
      "text/plain": [
       "146381"
      ]
     },
     "execution_count": 64,
     "metadata": {},
     "output_type": "execute_result"
    }
   ],
   "source": [
    "#Cleaned Dataset \n",
    "cloth_cleaned = []\n",
    "for item in all_cloth:\n",
    "    if len(item.keys()) == 15:\n",
    "        cloth_cleaned.append(item)\n",
    "len(cloth_cleaned)"
   ]
  },
  {
   "cell_type": "code",
   "execution_count": 65,
   "id": "57ce620e",
   "metadata": {},
   "outputs": [
    {
     "data": {
      "text/plain": [
       "{'fit': 'fit',\n",
       " 'user_id': '420272',\n",
       " 'item_id': '2260466',\n",
       " 'weight': '137lbs',\n",
       " 'rating': '10',\n",
       " 'review_text': \"An adorable romper! Belt and zipper were a little hard to navigate in a full day of wear/bathroom use, but that's to be expected. Wish it had pockets, but other than that-- absolutely perfect! I got a million compliments.\",\n",
       " 'review_summary': 'So many compliments!',\n",
       " 'category': 'romper',\n",
       " 'height': '5\\' 8\"',\n",
       " 'size': 14,\n",
       " 'age': '28',\n",
       " 'review_date': 'April 20, 2016',\n",
       " 'bust_size': '34d',\n",
       " 'rented_for': 'vacation',\n",
       " 'body_type': 'hourglass'}"
      ]
     },
     "execution_count": 65,
     "metadata": {},
     "output_type": "execute_result"
    }
   ],
   "source": [
    "cloth_cleaned[0]"
   ]
  },
  {
   "cell_type": "code",
   "execution_count": 66,
   "id": "877f1998",
   "metadata": {},
   "outputs": [],
   "source": [
    "#User item pair for recommendation:\n",
    "user_dict = defaultdict(list)\n",
    "for item in cloth_cleaned:\n",
    "    user_dict[item['user_id']].append(item['item_id'])"
   ]
  },
  {
   "cell_type": "code",
   "execution_count": 67,
   "id": "9031b3dc",
   "metadata": {},
   "outputs": [],
   "source": [
    "#Different occasions of clothes\n",
    "cloth_occasions = []\n",
    "for item in cloth_cleaned:\n",
    "    cloth_occasions.append(item['rented_for'])"
   ]
  },
  {
   "cell_type": "code",
   "execution_count": 68,
   "id": "d1a84207",
   "metadata": {},
   "outputs": [
    {
     "name": "stdout",
     "output_type": "stream",
     "text": [
      "['party: cocktail', 'everyday', 'vacation', 'date', 'other', 'wedding', 'work', 'formal affair', 'party']\n"
     ]
    }
   ],
   "source": [
    "unique_occasions = list(set(cloth_occasions))\n",
    "print(unique_occasions)"
   ]
  },
  {
   "cell_type": "code",
   "execution_count": 69,
   "id": "7d520a7a",
   "metadata": {},
   "outputs": [
    {
     "data": {
      "text/plain": [
       "9"
      ]
     },
     "execution_count": 69,
     "metadata": {},
     "output_type": "execute_result"
    }
   ],
   "source": [
    "len(unique_occasions)"
   ]
  },
  {
   "cell_type": "markdown",
   "id": "abd30e85",
   "metadata": {},
   "source": [
    "## Data Standardization"
   ]
  },
  {
   "cell_type": "code",
   "execution_count": 82,
   "id": "0efc04c9",
   "metadata": {},
   "outputs": [],
   "source": [
    "def standardize_data(data):\n",
    "    \"\"\"\n",
    "    Standardizes the clothing dataset in place, focusing on bust size and height.\n",
    "\n",
    "    Parameters:\n",
    "    data (list of dict): List of dictionaries containing clothing item and user information.\n",
    "    \"\"\"\n",
    "    for entry in data:\n",
    "        # Standardizing bust size\n",
    "        if 'bust_size' in entry and isinstance(entry['bust_size'], str):\n",
    "            bust_match = re.match(r'(\\d+)([a-zA-Z]+)', entry['bust_size'])\n",
    "            if bust_match:\n",
    "                entry['bra_size'] = int(bust_match.group(1))\n",
    "                entry['cup_size'] = bust_match.group(2)\n",
    "\n",
    "        # Converting height to inches\n",
    "        if 'height' in entry and isinstance(entry['height'], str):\n",
    "            height_match = re.match(r\"(\\d+)' (\\d+)\", entry['height'])\n",
    "            if height_match:\n",
    "                feet, inches = height_match.groups()\n",
    "                entry['height_inches'] = int(feet) * 12 + int(inches)\n",
    "\n"
   ]
  },
  {
   "cell_type": "code",
   "execution_count": 83,
   "id": "a78a7d55",
   "metadata": {},
   "outputs": [],
   "source": [
    "standardize_data(cloth_cleaned)"
   ]
  },
  {
   "cell_type": "code",
   "execution_count": 84,
   "id": "a836e5fb",
   "metadata": {},
   "outputs": [
    {
     "data": {
      "text/plain": [
       "{'fit': 'fit',\n",
       " 'user_id': '420272',\n",
       " 'item_id': '2260466',\n",
       " 'weight': '137lbs',\n",
       " 'rating': '10',\n",
       " 'review_text': \"An adorable romper! Belt and zipper were a little hard to navigate in a full day of wear/bathroom use, but that's to be expected. Wish it had pockets, but other than that-- absolutely perfect! I got a million compliments.\",\n",
       " 'review_summary': 'So many compliments!',\n",
       " 'category': 'romper',\n",
       " 'height': '5\\' 8\"',\n",
       " 'size': 14,\n",
       " 'age': '28',\n",
       " 'review_date': 'April 20, 2016',\n",
       " 'bust_size': '34d',\n",
       " 'rented_for': 'vacation',\n",
       " 'body_type': 'hourglass',\n",
       " 'bra_size': 34,\n",
       " 'cup_size': 'd',\n",
       " 'height_inches': 68}"
      ]
     },
     "execution_count": 84,
     "metadata": {},
     "output_type": "execute_result"
    }
   ],
   "source": [
    "cloth_cleaned[0]"
   ]
  },
  {
   "cell_type": "code",
   "execution_count": null,
   "id": "8fa3b7e1",
   "metadata": {},
   "outputs": [],
   "source": []
  }
 ],
 "metadata": {
  "kernelspec": {
   "display_name": "Python 3 (ipykernel)",
   "language": "python",
   "name": "python3"
  },
  "language_info": {
   "codemirror_mode": {
    "name": "ipython",
    "version": 3
   },
   "file_extension": ".py",
   "mimetype": "text/x-python",
   "name": "python",
   "nbconvert_exporter": "python",
   "pygments_lexer": "ipython3",
   "version": "3.11.5"
  }
 },
 "nbformat": 4,
 "nbformat_minor": 5
}
